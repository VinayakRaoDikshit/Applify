{
 "cells": [
  {
   "cell_type": "code",
   "execution_count": 1,
   "metadata": {},
   "outputs": [
    {
     "name": "stdout",
     "output_type": "stream",
     "text": [
      "Requirement already satisfied: selenium in c:\\users\\vani seth\\appdata\\local\\programs\\python\\python311\\lib\\site-packages (4.9.1)Note: you may need to restart the kernel to use updated packages.\n",
      "\n",
      "Requirement already satisfied: urllib3[socks]<3,>=1.26 in c:\\users\\vani seth\\appdata\\local\\programs\\python\\python311\\lib\\site-packages (from selenium) (1.26.16)\n",
      "Requirement already satisfied: trio~=0.17 in c:\\users\\vani seth\\appdata\\local\\programs\\python\\python311\\lib\\site-packages (from selenium) (0.22.0)\n",
      "Requirement already satisfied: trio-websocket~=0.9 in c:\\users\\vani seth\\appdata\\local\\programs\\python\\python311\\lib\\site-packages (from selenium) (0.10.2)\n",
      "Requirement already satisfied: certifi>=2021.10.8 in c:\\users\\vani seth\\appdata\\local\\programs\\python\\python311\\lib\\site-packages (from selenium) (2023.5.7)\n",
      "Requirement already satisfied: attrs>=19.2.0 in c:\\users\\vani seth\\appdata\\local\\programs\\python\\python311\\lib\\site-packages (from trio~=0.17->selenium) (23.1.0)\n",
      "Requirement already satisfied: sortedcontainers in c:\\users\\vani seth\\appdata\\local\\programs\\python\\python311\\lib\\site-packages (from trio~=0.17->selenium) (2.4.0)\n",
      "Requirement already satisfied: async-generator>=1.9 in c:\\users\\vani seth\\appdata\\local\\programs\\python\\python311\\lib\\site-packages (from trio~=0.17->selenium) (1.10)\n",
      "Requirement already satisfied: idna in c:\\users\\vani seth\\appdata\\local\\programs\\python\\python311\\lib\\site-packages (from trio~=0.17->selenium) (3.4)\n",
      "Requirement already satisfied: outcome in c:\\users\\vani seth\\appdata\\local\\programs\\python\\python311\\lib\\site-packages (from trio~=0.17->selenium) (1.2.0)\n",
      "Requirement already satisfied: sniffio in c:\\users\\vani seth\\appdata\\local\\programs\\python\\python311\\lib\\site-packages (from trio~=0.17->selenium) (1.3.0)\n",
      "Requirement already satisfied: cffi>=1.14 in c:\\users\\vani seth\\appdata\\local\\programs\\python\\python311\\lib\\site-packages (from trio~=0.17->selenium) (1.15.1)\n",
      "Requirement already satisfied: exceptiongroup in c:\\users\\vani seth\\appdata\\local\\programs\\python\\python311\\lib\\site-packages (from trio-websocket~=0.9->selenium) (1.1.1)\n",
      "Requirement already satisfied: wsproto>=0.14 in c:\\users\\vani seth\\appdata\\local\\programs\\python\\python311\\lib\\site-packages (from trio-websocket~=0.9->selenium) (1.2.0)\n",
      "Requirement already satisfied: PySocks!=1.5.7,<2.0,>=1.5.6 in c:\\users\\vani seth\\appdata\\local\\programs\\python\\python311\\lib\\site-packages (from urllib3[socks]<3,>=1.26->selenium) (1.7.1)\n",
      "Requirement already satisfied: pycparser in c:\\users\\vani seth\\appdata\\local\\programs\\python\\python311\\lib\\site-packages (from cffi>=1.14->trio~=0.17->selenium) (2.21)\n",
      "Requirement already satisfied: h11<1,>=0.9.0 in c:\\users\\vani seth\\appdata\\local\\programs\\python\\python311\\lib\\site-packages (from wsproto>=0.14->trio-websocket~=0.9->selenium) (0.14.0)\n"
     ]
    },
    {
     "name": "stderr",
     "output_type": "stream",
     "text": [
      "\n",
      "[notice] A new release of pip is available: 23.1.2 -> 23.3.2\n",
      "[notice] To update, run: python.exe -m pip install --upgrade pip\n"
     ]
    }
   ],
   "source": [
    "%pip install selenium"
   ]
  },
  {
   "cell_type": "code",
   "execution_count": 11,
   "metadata": {},
   "outputs": [],
   "source": [
    "import re\n",
    "import os\n",
    "import json\n",
    "from selenium import webdriver\n",
    "from selenium.webdriver.common.keys import Keys\n",
    "from selenium.webdriver.chrome.service import Service\n",
    "from selenium.webdriver.chrome.options import Options\n",
    "from selenium.webdriver.common.by import By\n",
    "from selenium.webdriver.support.ui import WebDriverWait\n",
    "from selenium.webdriver.support import expected_conditions as EC\n",
    "from webdriver_manager.chrome import ChromeDriverManager"
   ]
  },
  {
   "cell_type": "code",
   "execution_count": 12,
   "metadata": {},
   "outputs": [
    {
     "name": "stderr",
     "output_type": "stream",
     "text": [
      "C:\\Users\\VANI SETH\\AppData\\Local\\Temp\\ipykernel_23412\\434972571.py:7: DeprecationWarning: executable_path has been deprecated, please pass in a Service object\n",
      "  driver = webdriver.Chrome(ChromeDriverManager().install(), options=options)\n"
     ]
    },
    {
     "ename": "JavascriptException",
     "evalue": "Message: javascript error: Cannot read properties of null (reading 'click')\n  (Session info: chrome=120.0.6099.224)\nStacktrace:\n\tGetHandleVerifier [0x007F6EE3+174339]\n\t(No symbol) [0x00720A51]\n\t(No symbol) [0x00436FF6]\n\t(No symbol) [0x0043AEAC]\n\t(No symbol) [0x0043C7C1]\n\t(No symbol) [0x0049ACD8]\n\t(No symbol) [0x0048700C]\n\t(No symbol) [0x0049A104]\n\t(No symbol) [0x00486DA6]\n\t(No symbol) [0x00461034]\n\t(No symbol) [0x00461F8D]\n\tGetHandleVerifier [0x00894B1C+820540]\n\tsqlite3_dbdata_init [0x009553EE+653550]\n\tsqlite3_dbdata_init [0x00954E09+652041]\n\tsqlite3_dbdata_init [0x009497CC+605388]\n\tsqlite3_dbdata_init [0x00955D9B+656027]\n\t(No symbol) [0x0072FE6C]\n\t(No symbol) [0x007283B8]\n\t(No symbol) [0x007284DD]\n\t(No symbol) [0x00715818]\n\tBaseThreadInitThunk [0x76177BA9+25]\n\tRtlInitializeExceptionChain [0x77C3BD2B+107]\n\tRtlClearBits [0x77C3BCAF+191]\n",
     "output_type": "error",
     "traceback": [
      "\u001b[1;31m---------------------------------------------------------------------------\u001b[0m",
      "\u001b[1;31mJavascriptException\u001b[0m                       Traceback (most recent call last)",
      "Cell \u001b[1;32mIn[12], line 23\u001b[0m\n\u001b[0;32m     21\u001b[0m \u001b[38;5;66;03m#click on jobs button\u001b[39;00m\n\u001b[0;32m     22\u001b[0m jobs_button \u001b[38;5;241m=\u001b[39m driver\u001b[38;5;241m.\u001b[39mexecute_script(\u001b[38;5;124m'\u001b[39m\u001b[38;5;124mreturn document.querySelector(\u001b[39m\u001b[38;5;124m\"\u001b[39m\u001b[38;5;124m.app-aware-link.global-nav__primary-link\u001b[39m\u001b[38;5;124m\"\u001b[39m\u001b[38;5;124m);\u001b[39m\u001b[38;5;124m'\u001b[39m)\n\u001b[1;32m---> 23\u001b[0m \u001b[43mdriver\u001b[49m\u001b[38;5;241;43m.\u001b[39;49m\u001b[43mexecute_script\u001b[49m\u001b[43m(\u001b[49m\u001b[38;5;124;43m'\u001b[39;49m\u001b[38;5;124;43marguments[0].click()\u001b[39;49m\u001b[38;5;124;43m'\u001b[39;49m\u001b[43m,\u001b[49m\u001b[43m \u001b[49m\u001b[43mjobs_button\u001b[49m\u001b[43m)\u001b[49m\n\u001b[0;32m     25\u001b[0m \u001b[38;5;66;03m#search for jobs\u001b[39;00m\n\u001b[0;32m     26\u001b[0m search_input \u001b[38;5;241m=\u001b[39m driver\u001b[38;5;241m.\u001b[39mexecute_script(\u001b[38;5;124m'\u001b[39m\u001b[38;5;124mreturn document.getElementById(\u001b[39m\u001b[38;5;124m\"\u001b[39m\u001b[38;5;124mjobs-search-box-keyword-id-ember936\u001b[39m\u001b[38;5;124m\"\u001b[39m\u001b[38;5;124m)\u001b[39m\u001b[38;5;124m'\u001b[39m)\n",
      "File \u001b[1;32mc:\\Users\\VANI SETH\\AppData\\Local\\Programs\\Python\\Python311\\Lib\\site-packages\\selenium\\webdriver\\remote\\webdriver.py:500\u001b[0m, in \u001b[0;36mWebDriver.execute_script\u001b[1;34m(self, script, *args)\u001b[0m\n\u001b[0;32m    497\u001b[0m converted_args \u001b[38;5;241m=\u001b[39m \u001b[38;5;28mlist\u001b[39m(args)\n\u001b[0;32m    498\u001b[0m command \u001b[38;5;241m=\u001b[39m Command\u001b[38;5;241m.\u001b[39mW3C_EXECUTE_SCRIPT\n\u001b[1;32m--> 500\u001b[0m \u001b[38;5;28;01mreturn\u001b[39;00m \u001b[38;5;28;43mself\u001b[39;49m\u001b[38;5;241;43m.\u001b[39;49m\u001b[43mexecute\u001b[49m\u001b[43m(\u001b[49m\u001b[43mcommand\u001b[49m\u001b[43m,\u001b[49m\u001b[43m \u001b[49m\u001b[43m{\u001b[49m\u001b[38;5;124;43m\"\u001b[39;49m\u001b[38;5;124;43mscript\u001b[39;49m\u001b[38;5;124;43m\"\u001b[39;49m\u001b[43m:\u001b[49m\u001b[43m \u001b[49m\u001b[43mscript\u001b[49m\u001b[43m,\u001b[49m\u001b[43m \u001b[49m\u001b[38;5;124;43m\"\u001b[39;49m\u001b[38;5;124;43margs\u001b[39;49m\u001b[38;5;124;43m\"\u001b[39;49m\u001b[43m:\u001b[49m\u001b[43m \u001b[49m\u001b[43mconverted_args\u001b[49m\u001b[43m}\u001b[49m\u001b[43m)\u001b[49m[\u001b[38;5;124m\"\u001b[39m\u001b[38;5;124mvalue\u001b[39m\u001b[38;5;124m\"\u001b[39m]\n",
      "File \u001b[1;32mc:\\Users\\VANI SETH\\AppData\\Local\\Programs\\Python\\Python311\\Lib\\site-packages\\selenium\\webdriver\\remote\\webdriver.py:440\u001b[0m, in \u001b[0;36mWebDriver.execute\u001b[1;34m(self, driver_command, params)\u001b[0m\n\u001b[0;32m    438\u001b[0m response \u001b[38;5;241m=\u001b[39m \u001b[38;5;28mself\u001b[39m\u001b[38;5;241m.\u001b[39mcommand_executor\u001b[38;5;241m.\u001b[39mexecute(driver_command, params)\n\u001b[0;32m    439\u001b[0m \u001b[38;5;28;01mif\u001b[39;00m response:\n\u001b[1;32m--> 440\u001b[0m     \u001b[38;5;28;43mself\u001b[39;49m\u001b[38;5;241;43m.\u001b[39;49m\u001b[43merror_handler\u001b[49m\u001b[38;5;241;43m.\u001b[39;49m\u001b[43mcheck_response\u001b[49m\u001b[43m(\u001b[49m\u001b[43mresponse\u001b[49m\u001b[43m)\u001b[49m\n\u001b[0;32m    441\u001b[0m     response[\u001b[38;5;124m\"\u001b[39m\u001b[38;5;124mvalue\u001b[39m\u001b[38;5;124m\"\u001b[39m] \u001b[38;5;241m=\u001b[39m \u001b[38;5;28mself\u001b[39m\u001b[38;5;241m.\u001b[39m_unwrap_value(response\u001b[38;5;241m.\u001b[39mget(\u001b[38;5;124m\"\u001b[39m\u001b[38;5;124mvalue\u001b[39m\u001b[38;5;124m\"\u001b[39m, \u001b[38;5;28;01mNone\u001b[39;00m))\n\u001b[0;32m    442\u001b[0m     \u001b[38;5;28;01mreturn\u001b[39;00m response\n",
      "File \u001b[1;32mc:\\Users\\VANI SETH\\AppData\\Local\\Programs\\Python\\Python311\\Lib\\site-packages\\selenium\\webdriver\\remote\\errorhandler.py:245\u001b[0m, in \u001b[0;36mErrorHandler.check_response\u001b[1;34m(self, response)\u001b[0m\n\u001b[0;32m    243\u001b[0m         alert_text \u001b[38;5;241m=\u001b[39m value[\u001b[38;5;124m\"\u001b[39m\u001b[38;5;124malert\u001b[39m\u001b[38;5;124m\"\u001b[39m]\u001b[38;5;241m.\u001b[39mget(\u001b[38;5;124m\"\u001b[39m\u001b[38;5;124mtext\u001b[39m\u001b[38;5;124m\"\u001b[39m)\n\u001b[0;32m    244\u001b[0m     \u001b[38;5;28;01mraise\u001b[39;00m exception_class(message, screen, stacktrace, alert_text)  \u001b[38;5;66;03m# type: ignore[call-arg]  # mypy is not smart enough here\u001b[39;00m\n\u001b[1;32m--> 245\u001b[0m \u001b[38;5;28;01mraise\u001b[39;00m exception_class(message, screen, stacktrace)\n",
      "\u001b[1;31mJavascriptException\u001b[0m: Message: javascript error: Cannot read properties of null (reading 'click')\n  (Session info: chrome=120.0.6099.224)\nStacktrace:\n\tGetHandleVerifier [0x007F6EE3+174339]\n\t(No symbol) [0x00720A51]\n\t(No symbol) [0x00436FF6]\n\t(No symbol) [0x0043AEAC]\n\t(No symbol) [0x0043C7C1]\n\t(No symbol) [0x0049ACD8]\n\t(No symbol) [0x0048700C]\n\t(No symbol) [0x0049A104]\n\t(No symbol) [0x00486DA6]\n\t(No symbol) [0x00461034]\n\t(No symbol) [0x00461F8D]\n\tGetHandleVerifier [0x00894B1C+820540]\n\tsqlite3_dbdata_init [0x009553EE+653550]\n\tsqlite3_dbdata_init [0x00954E09+652041]\n\tsqlite3_dbdata_init [0x009497CC+605388]\n\tsqlite3_dbdata_init [0x00955D9B+656027]\n\t(No symbol) [0x0072FE6C]\n\t(No symbol) [0x007283B8]\n\t(No symbol) [0x007284DD]\n\t(No symbol) [0x00715818]\n\tBaseThreadInitThunk [0x76177BA9+25]\n\tRtlInitializeExceptionChain [0x77C3BD2B+107]\n\tRtlClearBits [0x77C3BCAF+191]\n"
     ]
    }
   ],
   "source": [
    "# options = Options()\n",
    "options = webdriver.ChromeOptions()\n",
    "# options.add_argument('--headless')\n",
    "\n",
    "webdriver_service = Service('./chromedriver.exe')  #path of chromedriver\n",
    "# driver = webdriver.Chrome(service=webdriver_service, options=options)\n",
    "driver = webdriver.Chrome(ChromeDriverManager().install(), options=options)\n",
    "driver.get(\"https://www.linkedin.com\")\n",
    "\n",
    "#enter email-id and pasword\n",
    "username_field = driver.execute_script('return document.getElementById(\"session_key\")')\n",
    "driver.execute_script('arguments[0].value = \"sethvani2002@gmail.com\"', username_field)\n",
    "\n",
    "password_field = driver.execute_script('return document.getElementById(\"session_password\")')\n",
    "driver.execute_script('arguments[0].value = \"vani2002seth\"', password_field)\n",
    "\n",
    "#logging in\n",
    "login_button = driver.execute_script('return document.querySelector(\".sign-in-form__submit-btn--full-width\")')\n",
    "driver.execute_script('arguments[0].click()', login_button)\n",
    "\n",
    "#click on jobs button\n",
    "jobs_button = driver.execute_script('return document.querySelector(\".app-aware-link.global-nav__primary-link\");')\n",
    "driver.execute_script('arguments[0].click()', jobs_button)\n",
    "\n",
    "#search for jobs\n",
    "search_input = driver.execute_script('return document.getElementById(\"jobs-search-box-keyword-id-ember936\")')\n",
    "driver.execute_script('arguments[0].value = \"Machine Learning\";', search_input)\n",
    "\n",
    "# get the job details\n",
    "job_details_script = \"\"\"\n",
    "    var jobTitle = document.querySelector('.job-details-jobs-unified-top-card__job-title-link').innerText.trim();\n",
    "    var location = document.querySelector('.job-details-jobs-unified-top-card__primary-description-container span').innerText.trim();\n",
    "    var applyNowLink = document.querySelector('.jobs-apply-button--top-card button').getAttribute('aria-label');\n",
    "\n",
    "    [jobTitle, location, applyNowLink];\n",
    "\"\"\"\n",
    "\n",
    "job_details = driver.execute_script(job_details_script)\n",
    "job_details_dict = {\n",
    "    \"Job Title\": job_details[0],\n",
    "    \"Location\": job_details[1],\n",
    "    \"Apply Now Link\": job_details[2]\n",
    "}\n",
    "\n",
    "outputFile = \"job_details.json\"\n",
    "with open(outputFile, \"w\", encoding=\"utf-8\") as json_file:\n",
    "    json.dump(job_details_dict, json_file, ensure_ascii=False, indent=2)\n",
    "\n",
    "print(f\"Job details have been saved to {outputFile}\")\n",
    "\n",
    "driver.quit()"
   ]
  },
  {
   "cell_type": "code",
   "execution_count": null,
   "metadata": {},
   "outputs": [],
   "source": []
  }
 ],
 "metadata": {
  "kernelspec": {
   "display_name": "Python 3",
   "language": "python",
   "name": "python3"
  },
  "language_info": {
   "codemirror_mode": {
    "name": "ipython",
    "version": 3
   },
   "file_extension": ".py",
   "mimetype": "text/x-python",
   "name": "python",
   "nbconvert_exporter": "python",
   "pygments_lexer": "ipython3",
   "version": "3.11.1"
  }
 },
 "nbformat": 4,
 "nbformat_minor": 2
}
