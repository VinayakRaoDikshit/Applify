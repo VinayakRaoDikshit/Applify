{
 "cells": [
  {
   "cell_type": "code",
   "execution_count": 1,
   "metadata": {},
   "outputs": [],
   "source": [
    "import time\n",
    "import os\n",
    "import json\n",
    "from selenium import webdriver\n",
    "from selenium.webdriver.common.keys import Keys\n",
    "from selenium.webdriver.chrome.service import Service\n",
    "from selenium.webdriver.chrome.options import Options\n",
    "from selenium.webdriver.common.by import By\n",
    "from selenium.webdriver.support.ui import WebDriverWait\n",
    "from selenium.webdriver.support import expected_conditions as EC\n",
    "from webdriver_manager.chrome import ChromeDriverManager"
   ]
  },
  {
   "cell_type": "code",
   "execution_count": 6,
   "metadata": {},
   "outputs": [
    {
     "name": "stderr",
     "output_type": "stream",
     "text": [
      "C:\\Users\\VANI SETH\\AppData\\Local\\Temp\\ipykernel_23700\\444901208.py:7: DeprecationWarning: executable_path has been deprecated, please pass in a Service object\n",
      "  driver = webdriver.Chrome(ChromeDriverManager().install(), options=options)\n"
     ]
    }
   ],
   "source": [
    "# options = Options()\n",
    "options = webdriver.ChromeOptions()\n",
    "# options.add_argument('--headless')\n",
    "\n",
    "webdriver_service = Service('./chromedriver.exe')  #path of chromedriver\n",
    "# driver = webdriver.Chrome(service=webdriver_service, options=options)\n",
    "driver = webdriver.Chrome(ChromeDriverManager().install(), options=options)\n",
    "driver.get(\"https://in.indeed.com/\")\n",
    "\n",
    "# enter the job type\n",
    "search_input = driver.execute_script('return document.getElementById(\"text-input-what\")')\n",
    "driver.execute_script('arguments[0].value = \"Machine Learning\";', search_input)\n",
    "\n",
    "# enter the location\n",
    "search_input_where = driver.execute_script('return document.getElementById(\"text-input-where\")')\n",
    "driver.execute_script('arguments[0].value = \"Delhi\";', search_input_where)\n",
    "\n",
    "# Click on the find jobs button\n",
    "jobs_button = driver.execute_script('return document.querySelector(\".yosegi-InlineWhatWhere-primaryButton\");')\n",
    "driver.execute_script('arguments[0].click()', jobs_button)\n",
    "\n",
    "time.sleep(10)\n",
    "\n"
   ]
  },
  {
   "cell_type": "code",
   "execution_count": null,
   "metadata": {},
   "outputs": [],
   "source": []
  }
 ],
 "metadata": {
  "kernelspec": {
   "display_name": "Python 3",
   "language": "python",
   "name": "python3"
  },
  "language_info": {
   "codemirror_mode": {
    "name": "ipython",
    "version": 3
   },
   "file_extension": ".py",
   "mimetype": "text/x-python",
   "name": "python",
   "nbconvert_exporter": "python",
   "pygments_lexer": "ipython3",
   "version": "3.11.1"
  }
 },
 "nbformat": 4,
 "nbformat_minor": 2
}
