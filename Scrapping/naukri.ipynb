{
 "cells": [
  {
   "cell_type": "code",
   "execution_count": 1,
   "metadata": {},
   "outputs": [
    {
     "name": "stdout",
     "output_type": "stream",
     "text": [
      "Requirement already satisfied: selenium in c:\\users\\vani seth\\appdata\\local\\programs\\python\\python311\\lib\\site-packages (4.9.1)\n",
      "Requirement already satisfied: urllib3[socks]<3,>=1.26 in c:\\users\\vani seth\\appdata\\local\\programs\\python\\python311\\lib\\site-packages (from selenium) (1.26.16)\n",
      "Requirement already satisfied: trio~=0.17 in c:\\users\\vani seth\\appdata\\local\\programs\\python\\python311\\lib\\site-packages (from selenium) (0.22.0)\n",
      "Requirement already satisfied: trio-websocket~=0.9 in c:\\users\\vani seth\\appdata\\local\\programs\\python\\python311\\lib\\site-packages (from selenium) (0.10.2)\n",
      "Requirement already satisfied: certifi>=2021.10.8 in c:\\users\\vani seth\\appdata\\local\\programs\\python\\python311\\lib\\site-packages (from selenium) (2023.5.7)\n",
      "Requirement already satisfied: attrs>=19.2.0 in c:\\users\\vani seth\\appdata\\local\\programs\\python\\python311\\lib\\site-packages (from trio~=0.17->selenium) (23.1.0)\n",
      "Requirement already satisfied: sortedcontainers in c:\\users\\vani seth\\appdata\\local\\programs\\python\\python311\\lib\\site-packages (from trio~=0.17->selenium) (2.4.0)\n",
      "Requirement already satisfied: async-generator>=1.9 in c:\\users\\vani seth\\appdata\\local\\programs\\python\\python311\\lib\\site-packages (from trio~=0.17->selenium) (1.10)\n",
      "Requirement already satisfied: idna in c:\\users\\vani seth\\appdata\\local\\programs\\python\\python311\\lib\\site-packages (from trio~=0.17->selenium) (3.4)\n",
      "Requirement already satisfied: outcome in c:\\users\\vani seth\\appdata\\local\\programs\\python\\python311\\lib\\site-packages (from trio~=0.17->selenium) (1.2.0)\n",
      "Requirement already satisfied: sniffio in c:\\users\\vani seth\\appdata\\local\\programs\\python\\python311\\lib\\site-packages (from trio~=0.17->selenium) (1.3.0)\n",
      "Requirement already satisfied: cffi>=1.14 in c:\\users\\vani seth\\appdata\\local\\programs\\python\\python311\\lib\\site-packages (from trio~=0.17->selenium) (1.15.1)\n",
      "Requirement already satisfied: exceptiongroup in c:\\users\\vani seth\\appdata\\local\\programs\\python\\python311\\lib\\site-packages (from trio-websocket~=0.9->selenium) (1.1.1)\n",
      "Requirement already satisfied: wsproto>=0.14 in c:\\users\\vani seth\\appdata\\local\\programs\\python\\python311\\lib\\site-packages (from trio-websocket~=0.9->selenium) (1.2.0)\n",
      "Requirement already satisfied: PySocks!=1.5.7,<2.0,>=1.5.6 in c:\\users\\vani seth\\appdata\\local\\programs\\python\\python311\\lib\\site-packages (from urllib3[socks]<3,>=1.26->selenium) (1.7.1)\n",
      "Requirement already satisfied: pycparser in c:\\users\\vani seth\\appdata\\local\\programs\\python\\python311\\lib\\site-packages (from cffi>=1.14->trio~=0.17->selenium) (2.21)\n",
      "Requirement already satisfied: h11<1,>=0.9.0 in c:\\users\\vani seth\\appdata\\local\\programs\\python\\python311\\lib\\site-packages (from wsproto>=0.14->trio-websocket~=0.9->selenium) (0.14.0)\n",
      "Note: you may need to restart the kernel to use updated packages.\n"
     ]
    },
    {
     "name": "stderr",
     "output_type": "stream",
     "text": [
      "\n",
      "[notice] A new release of pip is available: 23.1.2 -> 23.3.2\n",
      "[notice] To update, run: python.exe -m pip install --upgrade pip\n"
     ]
    }
   ],
   "source": [
    "%pip install selenium"
   ]
  },
  {
   "cell_type": "code",
   "execution_count": 7,
   "metadata": {},
   "outputs": [],
   "source": [
    "import time\n",
    "import os\n",
    "import json\n",
    "from selenium import webdriver\n",
    "from selenium.webdriver.common.keys import Keys\n",
    "from selenium.webdriver.chrome.service import Service\n",
    "from selenium.webdriver.chrome.options import Options\n",
    "from selenium.webdriver.common.by import By\n",
    "from selenium.webdriver.support.ui import WebDriverWait\n",
    "from selenium.webdriver.support import expected_conditions as EC\n",
    "from webdriver_manager.chrome import ChromeDriverManager"
   ]
  },
  {
   "cell_type": "code",
   "execution_count": 15,
   "metadata": {},
   "outputs": [
    {
     "name": "stderr",
     "output_type": "stream",
     "text": [
      "C:\\Users\\VANI SETH\\AppData\\Local\\Temp\\ipykernel_7780\\3859718051.py:7: DeprecationWarning: executable_path has been deprecated, please pass in a Service object\n",
      "  driver = webdriver.Chrome(ChromeDriverManager().install(), options=options)\n"
     ]
    },
    {
     "ename": "AttributeError",
     "evalue": "'NoneType' object has no attribute 'get_attribute'",
     "output_type": "error",
     "traceback": [
      "\u001b[1;31m---------------------------------------------------------------------------\u001b[0m",
      "\u001b[1;31mAttributeError\u001b[0m                            Traceback (most recent call last)",
      "Cell \u001b[1;32mIn[15], line 33\u001b[0m\n\u001b[0;32m     27\u001b[0m job_details \u001b[38;5;241m=\u001b[39m driver\u001b[38;5;241m.\u001b[39mexecute_script(\u001b[38;5;124m'\u001b[39m\u001b[38;5;124mreturn document.querySelector(\u001b[39m\u001b[38;5;124m\"\u001b[39m\u001b[38;5;124m.cTitle h1\u001b[39m\u001b[38;5;124m\"\u001b[39m\u001b[38;5;124m);\u001b[39m\u001b[38;5;124m'\u001b[39m)\n\u001b[0;32m     28\u001b[0m \u001b[38;5;66;03m# location = driver.execute_script('return document.querySelector(\".f14.lh18 .disc-li a\").innerText;')\u001b[39;00m\n\u001b[0;32m     29\u001b[0m \u001b[38;5;66;03m# application_link = driver.execute_script('return document.getElementById(\"applyWithoutRegistration\").getAttribute(\"href\");')\u001b[39;00m\n\u001b[0;32m     30\u001b[0m \n\u001b[0;32m     31\u001b[0m \n\u001b[0;32m     32\u001b[0m \u001b[38;5;66;03m# Print the extracted information\u001b[39;00m\n\u001b[1;32m---> 33\u001b[0m \u001b[38;5;28mprint\u001b[39m(\u001b[38;5;124m\"\u001b[39m\u001b[38;5;124mJob Title:\u001b[39m\u001b[38;5;124m\"\u001b[39m, \u001b[43mjob_details\u001b[49m\u001b[38;5;241;43m.\u001b[39;49m\u001b[43mget_attribute\u001b[49m(\u001b[38;5;124m\"\u001b[39m\u001b[38;5;124mtitle\u001b[39m\u001b[38;5;124m\"\u001b[39m))\n\u001b[0;32m     34\u001b[0m \u001b[38;5;66;03m# print(\"Location:\", location)\u001b[39;00m\n\u001b[0;32m     35\u001b[0m \u001b[38;5;66;03m# print(\"Application Link:\", application_link)\u001b[39;00m\n",
      "\u001b[1;31mAttributeError\u001b[0m: 'NoneType' object has no attribute 'get_attribute'"
     ]
    }
   ],
   "source": [
    "# options = Options()\n",
    "options = webdriver.ChromeOptions()\n",
    "# options.add_argument('--headless')\n",
    "\n",
    "webdriver_service = Service('./chromedriver.exe')  #path of chromedriver\n",
    "# driver = webdriver.Chrome(service=webdriver_service, options=options)\n",
    "driver = webdriver.Chrome(ChromeDriverManager().install(), options=options)\n",
    "driver.get(\"https://www.naukri.com/\")\n",
    "\n",
    "#search for jobs\n",
    "search_input = WebDriverWait(driver, 10).until(\n",
    "    EC.presence_of_element_located((By.CSS_SELECTOR, 'input.suggestor-input'))\n",
    ")\n",
    "search_input.send_keys(\"Machine Learning\")\n",
    "\n",
    "#click on the search button\n",
    "search_button = driver.execute_script('return document.querySelector(\".qsbSubmit\");')\n",
    "driver.execute_script('arguments[0].click()', search_button)\n",
    "\n",
    "time.sleep(10)\n",
    "\n",
    "#click on the first job listing\n",
    "job_listing_link = driver.execute_script('return document.querySelector(\".title\");')\n",
    "driver.execute_script('arguments[0].click()', job_listing_link)\n",
    "\n",
    "# Extract job details (job name, location, apply link)\n",
    "job_details = driver.execute_script('return document.querySelector(\".cTitle h1\");')\n",
    "# location = driver.execute_script('return document.querySelector(\".f14.lh18 .disc-li a\").innerText;')\n",
    "# application_link = driver.execute_script('return document.getElementById(\"applyWithoutRegistration\").getAttribute(\"href\");')\n",
    "\n",
    "\n",
    "# Print the extracted information\n",
    "print(\"Job Title:\", job_details.get_attribute(\"title\"))\n",
    "# print(\"Location:\", location)\n",
    "# print(\"Application Link:\", application_link)"
   ]
  },
  {
   "cell_type": "code",
   "execution_count": null,
   "metadata": {},
   "outputs": [],
   "source": [
    "\n",
    "# Extract job details (job name, location, apply link)\n",
    "# job_details_script = \"\"\"\n",
    "#     var jobName = document.querySelector(\".jdSum .cTitle h1\").innerText;\n",
    "#     var location = document.querySelector(\".jdSum .cityLinks\").innerText;\n",
    "#     var applyLink = document.querySelector(\"#bottomApply\").getAttribute(\"href\");\n",
    "#     return [jobName, location, applyLink];\n",
    "# \"\"\"\n",
    "\n",
    "# job_name, job_location, apply_link = driver.execute_script(job_details_script)\n",
    "\n",
    "# # Print the extracted information\n",
    "# print(\"Job Name:\", job_name)\n",
    "# print(\"Location:\", job_location)\n",
    "# print(\"Apply Link:\", apply_link)\n",
    "\n",
    "\n",
    "# script = '''\n",
    "#     var jobDetails = {};\n",
    "    \n",
    "#     // Extract job name\n",
    "#     var jobNameElement = document.querySelector(\".cTitle h1[title='jobTitleHeading']\");\n",
    "#     if (jobNameElement) {\n",
    "#         jobDetails.jobName = jobNameElement.innerText.trim();\n",
    "#     } else {\n",
    "#         jobDetails.jobName = \"Job name not found\";\n",
    "#     }\n",
    "\n",
    "#     // Extract location\n",
    "#     var locationElement = document.querySelector(\".disc-li a.cityLinks\");\n",
    "#     if (locationElement) {\n",
    "#         jobDetails.location = locationElement.innerText.trim();\n",
    "#     } else {\n",
    "#         jobDetails.location = \"Location not found\";\n",
    "#     }\n",
    "\n",
    "#     // Extract apply link\n",
    "#     var applyLinkElement = document.querySelector(\"script[src*='interceptAPI']\");\n",
    "#     if (applyLinkElement) {\n",
    "#         jobDetails.applyLink = \"https:\" + applyLinkElement.src.split(\"&callback\")[0];\n",
    "#     } else {\n",
    "#         jobDetails.applyLink = \"Apply link not found\";\n",
    "#     }\n",
    "\n",
    "#     return jobDetails;\n",
    "# '''\n",
    "\n",
    "# job_information = driver.execute_script(script)\n",
    "\n",
    "# # Print the extracted information\n",
    "# print(\"Job Name:\", job_information['jobName'])\n",
    "# print(\"Location:\", job_information['location'])\n",
    "# print(\"Apply Link:\", job_information['applyLink'])"
   ]
  },
  {
   "cell_type": "code",
   "execution_count": 16,
   "metadata": {},
   "outputs": [
    {
     "name": "stderr",
     "output_type": "stream",
     "text": [
      "C:\\Users\\VANI SETH\\AppData\\Local\\Temp\\ipykernel_7780\\3316763290.py:7: DeprecationWarning: executable_path has been deprecated, please pass in a Service object\n",
      "  driver = webdriver.Chrome(ChromeDriverManager().install(), options=options)\n"
     ]
    },
    {
     "name": "stdout",
     "output_type": "stream",
     "text": [
      "{'jobTitle': None}\n"
     ]
    }
   ],
   "source": [
    "# options = Options()\n",
    "options = webdriver.ChromeOptions()\n",
    "# options.add_argument('--headless')\n",
    "\n",
    "webdriver_service = Service('./chromedriver.exe')  #path of chromedriver\n",
    "# driver = webdriver.Chrome(service=webdriver_service, options=options)\n",
    "driver = webdriver.Chrome(ChromeDriverManager().install(), options=options)\n",
    "driver.get(\"https://www.naukri.com/\")\n",
    "\n",
    "#search for jobs\n",
    "search_input = WebDriverWait(driver, 10).until(\n",
    "    EC.presence_of_element_located((By.CSS_SELECTOR, 'input.suggestor-input'))\n",
    ")\n",
    "search_input.send_keys(\"Machine Learning\")\n",
    "\n",
    "#click on the search button\n",
    "search_button = driver.execute_script('return document.querySelector(\".qsbSubmit\");')\n",
    "driver.execute_script('arguments[0].click()', search_button)\n",
    "\n",
    "time.sleep(10)\n",
    "\n",
    "#click on the first job listing\n",
    "job_listing_link = driver.execute_script('return document.querySelector(\".title\");')\n",
    "driver.execute_script('arguments[0].click()', job_listing_link)\n",
    "\n",
    "# Extract job details (job name)\n",
    "job_title_element = driver.execute_script('return document.querySelector(\".cTitle h1\");')\n",
    "job_title = job_title_element.text.strip() if job_title_element else None\n",
    "\n",
    "# Create a JSON format\n",
    "job_details_json = {\n",
    "    \"jobTitle\": job_title,\n",
    "}\n",
    "\n",
    "print(job_details_json)"
   ]
  },
  {
   "cell_type": "code",
   "execution_count": null,
   "metadata": {},
   "outputs": [],
   "source": []
  }
 ],
 "metadata": {
  "kernelspec": {
   "display_name": "Python 3",
   "language": "python",
   "name": "python3"
  },
  "language_info": {
   "codemirror_mode": {
    "name": "ipython",
    "version": 3
   },
   "file_extension": ".py",
   "mimetype": "text/x-python",
   "name": "python",
   "nbconvert_exporter": "python",
   "pygments_lexer": "ipython3",
   "version": "3.11.1"
  }
 },
 "nbformat": 4,
 "nbformat_minor": 2
}
